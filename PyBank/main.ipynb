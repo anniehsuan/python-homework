{
 "cells": [
  {
   "cell_type": "code",
   "execution_count": 134,
   "metadata": {},
   "outputs": [
    {
     "name": "stdout",
     "output_type": "stream",
     "text": [
      "Total Months: 86\n",
      "Total: $38382578\n",
      "Average  Change: $-2315.12\n",
      "Greatest Increase in Profits: Feb-12 $1926159\n",
      "Greatest Decrease in Profits: Sep-13 $-2196167\n"
     ]
    }
   ],
   "source": [
    "# Import the pathlib and csv library\n",
    "from pathlib import Path\n",
    "import csv \n",
    "# Set the path for the csv file\n",
    "csvpath = Path(\"02-Homework_02-Python_PyBank_Resources_budget_data.csv\")\n",
    "# Initialize list & dictionary\n",
    "datelist = []\n",
    "profitlist = []\n",
    "analysis = {}\n",
    "\n",
    "\n",
    "# Open the csv as an object\n",
    "with open(csvpath,\"r\") as csv_file:\n",
    "    # Pass in the csv file to the csv.reader() function\n",
    "    csv_reader = csv.reader(csv_file, delimiter=',')\n",
    "    \n",
    "    \n",
    "    # Read the header row first (skip this step if there is no header)\n",
    "    csv_header = next(csv_reader)\n",
    "    # Print the header\n",
    "    #print(csv_header)\n",
    "   \n",
    "    #The total number of months included in the dataset = count it line by line \n",
    "    \n",
    "    # Read each row of data after the header\n",
    "    for row in csv_reader:\n",
    "        date = row[0]\n",
    "        datelist.append(date)\n",
    "        # Print the row \n",
    "        #print(row)\n",
    "        # Set the 'date', 'proft' variables for better readability, convert strings to ints for numerical calculations\n",
    "        profit = int(row[1])\n",
    "        profitlist.append(profit)\n",
    "        #print (profit)\n",
    "        \n",
    "        \n",
    "\n",
    "        \n",
    "        \n",
    "\n",
    "# The total number of months included in the dataset\n",
    "month_total = len(datelist)\n",
    "print(f'Total Months: {month_total}')\n",
    "\n",
    "#The net total amount of Profit/Losses over the entire period.\n",
    "print(f'Total: ${sum(profitlist)}')\n",
    "\n",
    "#The average of the changes in Profit/Losses over the entire period.\n",
    "#print(profitlist)\n",
    "total_change = []\n",
    "for n in profitlist:\n",
    "    index_num = profitlist.index(n)\n",
    "    if index_num <=84:\n",
    "        #print(profitlist[index_num])\n",
    "        if index_num <= 84:\n",
    "            next_index_num = index_num +1\n",
    "            #print(next_index_num)\n",
    "            #print(profitlist[next_index_num])\n",
    "            monthlychange= profitlist[next_index_num] - profitlist[index_num]\n",
    "            #print (monthlychange)\n",
    "            total_change.append(monthlychange)\n",
    "            #print(total_change)\n",
    "            \n",
    "            \n",
    "#Average_change\n",
    "Change_month = len(total_change)\n",
    "Change_addup = sum(total_change)\n",
    "Average_change = round(Change_addup/Change_month, 2)\n",
    "print(f'Average  Change: ${Average_change}')\n",
    "\n",
    "#The greatest increase in profits (date and amount) over the entire period.\n",
    "max_profit= max(total_change)\n",
    "index_max_profit = total_change.index(max_profit)+1\n",
    "#print(datelist[index_max_profit])\n",
    "print(f'Greatest Increase in Profits: {datelist[index_max_profit]} ${max(total_change)}')\n",
    "\n",
    "#The greatest decrease in profits (date and amount) over the entire period.\n",
    "min_profit= min(total_change)\n",
    "index_min_profit = total_change.index(min_profit)+1\n",
    "print(f'Greatest Decrease in Profits: {datelist[index_min_profit]} ${min(total_change)}')"
   ]
  },
  {
   "cell_type": "code",
   "execution_count": null,
   "metadata": {},
   "outputs": [],
   "source": []
  },
  {
   "cell_type": "code",
   "execution_count": null,
   "metadata": {},
   "outputs": [],
   "source": []
  },
  {
   "cell_type": "code",
   "execution_count": null,
   "metadata": {},
   "outputs": [],
   "source": []
  }
 ],
 "metadata": {
  "kernelspec": {
   "display_name": "Python 3",
   "language": "python",
   "name": "python3"
  },
  "language_info": {
   "codemirror_mode": {
    "name": "ipython",
    "version": 3
   },
   "file_extension": ".py",
   "mimetype": "text/x-python",
   "name": "python",
   "nbconvert_exporter": "python",
   "pygments_lexer": "ipython3",
   "version": "3.8.3"
  }
 },
 "nbformat": 4,
 "nbformat_minor": 4
}
